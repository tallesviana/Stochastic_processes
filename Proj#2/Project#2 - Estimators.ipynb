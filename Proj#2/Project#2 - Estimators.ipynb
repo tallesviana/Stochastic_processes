{
 "cells": [
  {
   "cell_type": "markdown",
   "metadata": {},
   "source": [
    "## Introdução\n",
    "\n",
    "O objetivo deste projeto é gerar estimadores para a resposta ao impulso de um sistema 'desconhecido':\n",
    " - No caso, descobrir qual a resposta ao impulso de uma garrafa;\n",
    "\n",
    "[Projeto2.pdf](https://github.com/tallesviana/Stochastic_processes/blob/master/Proj%232/res/Estimador.pdf) :\n",
    "_\" [...] A estimação da resposta ao impulso pode ser feita colocando um ruído branco na entrada do sistema, observando sua saída, e fazendo algumas operações. Por exemplo, para medir a resposta ao impulso da garrafa, podemos colocar um alto falante tocando um ruído branco conhecido, w[k], medir com um microfone o áudio resultante dentro da garrafa, r[k], e usar esses dois sinais para a estimação. [...] \"_"
   ]
  },
  {
   "cell_type": "markdown",
   "metadata": {},
   "source": [
    "Importanto as bibliotecas necessárias:"
   ]
  },
  {
   "cell_type": "code",
   "execution_count": 2,
   "metadata": {},
   "outputs": [],
   "source": [
    "%matplotlib inline\n",
    "from scipy.io import wavfile\n",
    "import matplotlib.pyplot as plt\n",
    "import numpy as np\n",
    "import IPython.display as ipd"
   ]
  },
  {
   "cell_type": "markdown",
   "metadata": {},
   "source": [
    "---\n",
    "### Qual o output simulado do sistema ?\n",
    "\n",
    "Diretamente da proposta do projeto [Projeto2.pdf](https://github.com/tallesviana/Stochastic_processes/blob/master/Proj%232/res/Estimador.pdf), iremos simular o sinal passando pelo sistema:\n",
    "\n",
    "_\" [...] Antes de começar, usar um alto falante para medir a resposta ao impulso\n",
    "é muito trabalhoso para os fins desse projeto. Vamos então usar a resposta\n",
    "ao impulso da garrafa do vídeo acima e simular esse experimento. Para isso,\n",
    "você vai ler o arquivo de áudio com a resposta ao impulso, **h[k]**, gerar o ruído\n",
    "de excitação **w[k]** e o ruído de leitura **n[k]**, e vai simular a gravação usando\n",
    "uma convolução: **r[k] = w[k] * h[k] + n[k]**. Assuma que o ruído de leitura\n",
    "tem variância 0.01. [...] \"_\n",
    "\n",
    "Sendo assim, nosso sinal de saída é:\n",
    "\n",
    "\\begin{equation*}\n",
    "r[k] = w[k] * h[k] + n[k]\n",
    "\\end{equation*}"
   ]
  },
  {
   "cell_type": "code",
   "execution_count": 15,
   "metadata": {},
   "outputs": [],
   "source": [
    "## Simulador do Sinal de Saída     w[k] ---|h[k]|---->  r[k]\n",
    "\n",
    "def sim_output_measurement(impulse_response, noise_samples=10000):\n",
    "\n",
    "  w = np.random.normal(loc=0, scale=1, size=noise_samples)\n",
    "\n",
    "  # convolve with the impulse response h[k]\n",
    "  r_k = np.convolve(w, h, mode='full')\n",
    "\n",
    "  #then, sum with the reading noise N - (0, 0.1) with the size of the convolution\n",
    "  r_k = r_k[:noise_samples] + np.random.normal(loc=0, scale=0.1, size=noise_samples)\n",
    "\n",
    "  return r_k, w"
   ]
  },
  {
   "cell_type": "markdown",
   "metadata": {},
   "source": [
    "---\n",
    "### Como verificar a qualidade do estimador?\n",
    "\n",
    "Função que verifica a qualidade do estimador baseado na distância entre o estimador e a resposta ao impulso original:\n",
    "\n",
    "\\begin{equation*}\n",
    "erro = \\frac{\\sum | h[k] - \\hat{h}[k] |^2}{\\sum | h[k] |^2}\n",
    "\\end{equation*}"
   ]
  },
  {
   "cell_type": "code",
   "execution_count": 4,
   "metadata": {},
   "outputs": [],
   "source": [
    "def estimation_error(estimator, reference):\n",
    "  error = np.sum((reference - estimator) ** 2)/np.sum(reference ** 2)\n",
    "  return error"
   ]
  },
  {
   "cell_type": "markdown",
   "metadata": {},
   "source": [
    "Função para plotar as formas de onda:"
   ]
  },
  {
   "cell_type": "code",
   "execution_count": 13,
   "metadata": {},
   "outputs": [],
   "source": [
    "def plot_estimators(estimated, real):\n",
    "  plt.plot(real, label='Real');\n",
    "  plt.plot(estimated, alpha=0.6, label='Estimated');\n",
    "  plt.title(\"Impulse response comparison: Estimator vs Real\")\n",
    "  plt.xlabel(r'$k$')\n",
    "  plt.ylabel(\"Amplitude\")\n",
    "  if len(estimated) > 1:\n",
    "    plt.legend();\n",
    "  plt.show();\n",
    "  print(\"Erro do estimador de: {0:.3f} %\".format(estimation_error(estimated, real)*100))"
   ]
  },
  {
   "cell_type": "markdown",
   "metadata": {},
   "source": [
    "---\n"
   ]
  },
  {
   "cell_type": "markdown",
   "metadata": {},
   "source": [
    "## Carregando o aúdio da responsa ao impulso\n",
    "\n",
    "Fazendo a normalização da série e truncando em 6000 samples"
   ]
  },
  {
   "cell_type": "code",
   "execution_count": 6,
   "metadata": {},
   "outputs": [],
   "source": [
    "audio_garrafa = \"res/Garrafa.wav\""
   ]
  },
  {
   "cell_type": "code",
   "execution_count": 7,
   "metadata": {
    "scrolled": true
   },
   "outputs": [
    {
     "data": {
      "image/png": "[encoded data removed]",
      "text/plain": [
       "<Figure size 432x288 with 1 Axes>"
      ]
     },
     "metadata": {
      "needs_background": "light"
     },
     "output_type": "display_data"
    }
   ],
   "source": [
    "srate, h = wavfile.read(audio_garrafa)\n",
    "h = h[:6000]/np.max(np.abs(h), axis=0)\n",
    "\n",
    "plt.plot(h)\n",
    "plt.title(\"ORIGINAL - Impulse Response\")\n",
    "plt.ylabel(r'$h[k]$')\n",
    "plt.xlabel(r'$k$')\n",
    "plt.show()"
   ]
  },
  {
   "cell_type": "markdown",
   "metadata": {},
   "source": [
    "---"
   ]
  },
  {
   "cell_type": "markdown",
   "metadata": {},
   "source": [
    "# 2 - Estimação por Correlação"
   ]
  },
  {
   "cell_type": "markdown",
   "metadata": {},
   "source": [
    "## 2.1 - Demonstração\n",
    "\n",
    "A correlação cruzada de duas sequência pode ser estimada por:\n",
    "\n",
    "\\begin{equation*}\n",
    "\\rho [k] = \\frac{1}{K} \\sum_{m=0}^{K} r[m] w[m-k]\n",
    "\\end{equation*}\n",
    "\n",
    "Tal correlação pode ser obtida passasando o mesmo sinal **_r[k]_** por um filtro com resposta **_w[-k]_** :"
   ]
  },
  {
   "cell_type": "markdown",
   "metadata": {},
   "source": [
    "## 2.2 - O estimador"
   ]
  },
  {
   "cell_type": "markdown",
   "metadata": {},
   "source": [
    "## 2.3 - Implementação"
   ]
  },
  {
   "cell_type": "code",
   "execution_count": 8,
   "metadata": {},
   "outputs": [
    {
     "data": {
      "image/png": "[encoded data removed]",
      "text/plain": [
       "<Figure size 432x288 with 1 Axes>"
      ]
     },
     "metadata": {
      "needs_background": "light"
     },
     "output_type": "display_data"
    },
    {
     "name": "stdout",
     "output_type": "stream",
     "text": [
      "Erro do estimador de: 7.493 %\n"
     ]
    }
   ],
   "source": [
    "# Definindo o número de samples da nossa excitação\n",
    "num_samples_excitation = 60000\n",
    "\n",
    "# Pegando o sinal do output e o de entrada\n",
    "r_k, w_noise = sim_output_measurement(h, num_samples_excitation)\n",
    "\n",
    "#\n",
    "#  Correlação cruzada entre a saída e a entrada\n",
    "#\n",
    "\n",
    "p_k = np.correlate(r_k, w_noise, 'full')\n",
    "p_k = p_k/len(r_k)\n",
    "\n",
    "#\n",
    "#  Nosso primeiro estimador é dado abaixo\n",
    "#\n",
    "\n",
    "h_est =p_k[num_samples_excitation-1:num_samples_excitation+len(h)-1]\n",
    "\n",
    "plot_estimators(h_est, h)"
   ]
  },
  {
   "cell_type": "markdown",
   "metadata": {},
   "source": [
    "---"
   ]
  },
  {
   "cell_type": "markdown",
   "metadata": {},
   "source": [
    "# 3 - Melhorando a estimação"
   ]
  },
  {
   "cell_type": "code",
   "execution_count": 9,
   "metadata": {},
   "outputs": [],
   "source": [
    "# PODEMOS FAZER UMA MÉDIA DAS VARIAS CORRELAÇÕES CRUZADAS\n",
    "# DE DIFERENTES REALIZAÇÕES\n",
    "def multiple_cross_correlations(h, num_samples_excitation, iterations):\n",
    "  \n",
    "  ccfs = 0\n",
    "\n",
    "  for i in range(iterations):\n",
    "\n",
    "      # Obtendo o output de uma realização\n",
    "      output, w_noise = sim_output_measurement(h, num_samples_excitation)\n",
    "\n",
    "      # Obtendo a correlação\n",
    "      correlation = np.correlate(output, w_noise, mode='full')/len(output)\n",
    "\n",
    "      ccfs = ccfs + correlation\n",
    "\n",
    "  return ccfs/iterations"
   ]
  },
  {
   "cell_type": "code",
   "execution_count": 12,
   "metadata": {},
   "outputs": [
    {
     "data": {
      "image/png": "[encoded data removed]",
      "text/plain": [
       "<Figure size 432x288 with 1 Axes>"
      ]
     },
     "metadata": {
      "needs_background": "light"
     },
     "output_type": "display_data"
    },
    {
     "name": "stdout",
     "output_type": "stream",
     "text": [
      "Erro do estimador de: 2.090 %\n",
      "Erro do estimador de: 2.089858733297311 %\n"
     ]
    }
   ],
   "source": [
    "# Escolha os dois parâmetros abaixo!\n",
    "\n",
    "num_samples=60000\n",
    "iterations = 5\n",
    "\n",
    "estimator = multiple_cross_correlations(h, num_samples, iterations)\n",
    "\n",
    "estimator = estimator[num_samples-1:num_samples+len(h)-1]\n",
    "plot_estimators(estimator, h)"
   ]
  },
  {
   "cell_type": "markdown",
   "metadata": {},
   "source": [
    "---"
   ]
  },
  {
   "cell_type": "markdown",
   "metadata": {},
   "source": [
    "# 4 - Mínimo Erro Quadrático Médio (MMSE)"
   ]
  },
  {
   "cell_type": "code",
   "execution_count": null,
   "metadata": {},
   "outputs": [],
   "source": []
  },
  {
   "cell_type": "code",
   "execution_count": null,
   "metadata": {},
   "outputs": [],
   "source": []
  },
  {
   "cell_type": "markdown",
   "metadata": {},
   "source": [
    "---\n",
    "---\n",
    "---\n",
    "\n",
    "### References used to make this project\n",
    "\n",
    "https://jupyter-notebook.readthedocs.io/en/stable/examples/Notebook/Typesetting%20Equations.html\n",
    "\n",
    "https://medium.com/ibm-data-science-experience/markdown-for-jupyter-notebooks-cheatsheet-386c05aeebed\n",
    "\n",
    "Example of markdown format:\n",
    "\n",
    "\\begin{align}\n",
    "\\dot{x} & = \\sigma(y-x) \\\\\n",
    "\\dot{y} & = \\rho x - y - xz \\\\\n",
    "z & = 2 \\\\\n",
    "r[k] & = w[k] * h[k] + n[k]\n",
    "\\end{align}"
   ]
  },
  {
   "cell_type": "code",
   "execution_count": null,
   "metadata": {},
   "outputs": [],
   "source": []
  }
 ],
 "metadata": {
  "kernelspec": {
   "display_name": "Python 3",
   "language": "python",
   "name": "python3"
  },
  "language_info": {
   "codemirror_mode": {
    "name": "ipython",
    "version": 3
   },
   "file_extension": ".py",
   "mimetype": "text/x-python",
   "name": "python",
   "nbconvert_exporter": "python",
   "pygments_lexer": "ipython3",
   "version": "3.7.2"
  }
 },
 "nbformat": 4,
 "nbformat_minor": 2
}
